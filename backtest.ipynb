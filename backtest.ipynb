{
 "cells": [
  {
   "cell_type": "code",
   "execution_count": 1,
   "id": "f5fed77a",
   "metadata": {},
   "outputs": [],
   "source": [
    "import pandas as pd\n",
    "import datetime\n",
    "import numpy as np\n",
    "import matplotlib.pyplot as plt\n",
    "from glob import glob\n",
    "from dateutil.relativedelta import relativedelta, TH\n",
    "import py_vollib.black_scholes.implied_volatility as iv\n",
    "from datetime import datetime as dt\n",
    "import py_vollib.black_scholes.greeks.analytical as greeks"
   ]
  },
  {
   "cell_type": "code",
   "execution_count": 2,
   "id": "2d117ca7",
   "metadata": {},
   "outputs": [],
   "source": [
    "# Storing path of all data files and date in a dataframe\n",
    "path = pd.DataFrame(glob('BANKNIFTY 2022/*'), columns=['location'])\n",
    "path['data_date'] = path['location'].apply(lambda x : datetime.datetime.strptime(x.split('_')[-1].split('.')[0], '%Y%m%d'))\n",
    "path.sort_values(['data_date'], inplace=True)\n",
    "path.reset_index(drop=True, inplace=True)"
   ]
  },
  {
   "cell_type": "code",
   "execution_count": 3,
   "id": "ef36ca21",
   "metadata": {},
   "outputs": [],
   "source": [
    "trade_log = pd.DataFrame(columns=['Entry_Date' , 'BANKNIFTY_open', 'Days To Expiry', 'CE_Symbol', 'CE_Entry_Price', 'CE_Exit_price', 'CE_Exit_Time', 'PE_Symbol', 'PE_Entry_Price', 'PE_Exit_price', 'PE_Exit_Time', 'PnL'])"
   ]
  },
  {
   "cell_type": "code",
   "execution_count": 4,
   "id": "f32b982c",
   "metadata": {},
   "outputs": [],
   "source": [
    "# Generates a dataframe containing all call options data along with their delta values \n",
    "def call_open_data(df_open, underlying_price_open):\n",
    "    call_option_data = df_open[df_open['symbol'].str.endswith('CE')].copy() #Get all call symbols\n",
    "    call_option_data['time_to_expiration'] = None\n",
    "    call_option_data['implied_volatility'] = 0.2\n",
    "\n",
    "    for index, row in call_option_data.iterrows():\n",
    "        option_price = float(row['close']) # OPTION PRICE\n",
    "        stock_price = float(underlying_price_open) # BANKNIFTY PRICE\n",
    "        strike_price = float(row['symbol'].split('CE')[0][-5:]) # STRIKE PRICE\n",
    "        expiration_date_str = row['symbol'][9:16]\n",
    "        expiration_date = datetime.datetime.strptime(expiration_date_str, '%d%b%y').date()\n",
    "        current_date = datetime.datetime.strptime(row['date'], '%Y-%m-%d').date()\n",
    "        call_option_data.loc[index, 'time_to_expiration'] = (expiration_date - current_date).days + 1 #Time to Expire (in Days)\n",
    "        time_to_expiration = ((expiration_date - current_date).days + 1) / 365.0 #Time to expire (in years)\n",
    "        risk_free_rate = 0.065 # Annual risk free rate\n",
    "        initial_guess = 0.2  \n",
    "        \n",
    "        # Calculating implied volatility \n",
    "        try:\n",
    "            implied_volatility = iv.implied_volatility(option_price, stock_price, strike_price, time_to_expiration, risk_free_rate, 'c')\n",
    "            call_option_data.loc[index, 'implied_volatility'] = implied_volatility\n",
    "        except:\n",
    "            continue\n",
    "            \n",
    "    # Calculating Delta\n",
    "    for index, row in call_option_data.iterrows():\n",
    "        option_price = float(row['close'])\n",
    "        stock_price = float(row['close'])\n",
    "        strike_price = float(row['symbol'].split('CE')[0][-5:])\n",
    "        time_to_expiration = row['time_to_expiration'] / 365.0\n",
    "        risk_free_rate = 0.065\n",
    "        volatility = row['implied_volatility']\n",
    "\n",
    "        delta = greeks.delta('c', underlying_price_open, strike_price, time_to_expiration, risk_free_rate, volatility)\n",
    "        delta_rounded = round(delta, 3)\n",
    "        call_option_data.loc[index, 'delta'] = abs(delta_rounded)\n",
    "\n",
    "        \n",
    "    return call_option_data"
   ]
  },
  {
   "cell_type": "code",
   "execution_count": 5,
   "id": "58b585f5",
   "metadata": {},
   "outputs": [],
   "source": [
    "# Generates a dataframe containing all put options data along with their delta values \n",
    "def put_open_data(df_open, underlying_price_open):\n",
    "    put_option_data = df_open[df_open['symbol'].str.endswith('PE')].copy()\n",
    "    put_option_data['time_to_expiration'] = None        \n",
    "    put_option_data['implied_volatility'] = 0.2\n",
    "\n",
    "    for index, row in put_option_data.iterrows():\n",
    "        option_price = float(row['close'])\n",
    "        stock_price = float(underlying_price_open)\n",
    "        strike_price = float(row['symbol'].split('PE')[0][-5:])\n",
    "        expiration_date_str = row['symbol'][9:16]\n",
    "        expiration_date = datetime.datetime.strptime(expiration_date_str, '%d%b%y').date()\n",
    "        current_date = datetime.datetime.strptime(row['date'], '%Y-%m-%d').date()\n",
    "        put_option_data.loc[index, 'time_to_expiration'] = (expiration_date - current_date).days + 1\n",
    "        time_to_expiration = ((expiration_date - current_date).days + 1) / 365.0\n",
    "        risk_free_rate = 0.065  \n",
    "        initial_guess = 0.2  \n",
    "\n",
    "        try:\n",
    "            implied_volatility = iv.implied_volatility(option_price, stock_price, strike_price, time_to_expiration, risk_free_rate, 'p')\n",
    "            put_option_data.loc[index, 'implied_volatility'] = implied_volatility\n",
    "        except:\n",
    "            continue\n",
    "            \n",
    "            \n",
    "    for index, row in put_option_data.iterrows():\n",
    "        option_price = row['close']\n",
    "        stock_price = float(row['close'])\n",
    "        strike_price = float(row['symbol'].split('PE')[0][-5:])\n",
    "        time_to_expiration = row['time_to_expiration'] / 365.0\n",
    "        risk_free_rate = 0.065\n",
    "        volatility = row['implied_volatility']\n",
    "\n",
    "        delta = greeks.delta('p', underlying_price_open, strike_price, time_to_expiration, risk_free_rate, volatility)\n",
    "        delta_rounded = round(delta, 3)\n",
    "        put_option_data.loc[index, 'delta'] = abs(delta_rounded)\n",
    "        \n",
    "    \n",
    "    return put_option_data\n",
    "\n"
   ]
  },
  {
   "cell_type": "code",
   "execution_count": 6,
   "id": "4a574b4a",
   "metadata": {},
   "outputs": [],
   "source": [
    "# Calculate PnL of a position (Lot Size = 25)\n",
    "def calculate_pnl(entry_price, exit_price, lot_size):\n",
    "    return (exit_price - entry_price)*-1*lot_size"
   ]
  },
  {
   "cell_type": "code",
   "execution_count": 7,
   "id": "db1fa954",
   "metadata": {},
   "outputs": [],
   "source": [
    "# PnL earned by shorting a call (SL 30%)\n",
    "def call_pnl(ce_data, ce_entry_price, ce_sl_price):\n",
    "\n",
    "    for index, row in ce_data.iterrows():\n",
    "        close_price = float(row['close'])\n",
    "        time = row['time']\n",
    "\n",
    "        # Check if the close price exceeds the stop-loss price or it's 3:15 PM\n",
    "        if close_price >= ce_sl_price or time == '15:15:00' or index == ce_data.index[-1]:\n",
    "            # Square-off the position (booking a loss)\n",
    "            ce_data.loc[index, 'pos'] = 0\n",
    "            ce_exit_price = close_price\n",
    "            ce_pnl = calculate_pnl(ce_entry_price, ce_exit_price, 25)\n",
    "            break\n",
    "            \n",
    "    return ce_exit_price, ce_pnl"
   ]
  },
  {
   "cell_type": "code",
   "execution_count": 8,
   "id": "2d1395ec",
   "metadata": {},
   "outputs": [],
   "source": [
    "# PnL earned by shorting a put (SL 30%)\n",
    "def put_pnl(pe_data, pe_entry_price, pe_sl_price):\n",
    "    for index, row in pe_data.iterrows():\n",
    "        close_price = float(row['close'])\n",
    "        time = row['time']\n",
    "\n",
    "        # Check if the close price exceeds the stop-loss price or it's 3:15 PM\n",
    "        if close_price >= pe_sl_price or time == '15:15:00' or index == pe_data.index[-1]:\n",
    "            # Square-off the position (booking a loss)\n",
    "            pe_data.loc[index, 'pos'] = 0\n",
    "            pe_exit_price = close_price\n",
    "            pe_pnl = calculate_pnl(pe_entry_price, pe_exit_price, 25)\n",
    "            break\n",
    "    return pe_exit_price, pe_pnl"
   ]
  },
  {
   "cell_type": "code",
   "execution_count": null,
   "id": "360d72c8",
   "metadata": {},
   "outputs": [],
   "source": [
    "# Function to read each data file and calculate PnL for each day. Also stores the daily trade log in a file\n",
    "def read_paths(path):\n",
    "    for index, row in path.iterrows():\n",
    "        try :\n",
    "            data = pd.read_parquet(row['location'])\n",
    "            date = row['data_date']\n",
    "            try :\n",
    "                underlying_price_open = float(data.loc[(data['symbol'] == 'BANKNIFTY-I') & (data['time'] == '09:15:00'), 'close'].values[0])\n",
    "            except :\n",
    "                underlying_price_open = float(data.loc[(data['symbol'] == 'BANKNIFTY') & (data['time'] == '09:15:00'), 'close'].values[0])\n",
    "\n",
    "            df_open = data[data['time'] == '09:15:00']\n",
    "\n",
    "            call_option_data = call_open_data(df_open, underlying_price_open)\n",
    "            put_option_data = put_open_data(df_open, underlying_price_open)\n",
    "\n",
    "            call_option_data['delta_diff'] = abs(call_option_data['delta'] - 0.3) \n",
    "            put_option_data['delta_diff'] = abs(put_option_data['delta'] - 0.3)\n",
    "\n",
    "            call_option_data = call_option_data.sort_values('delta_diff')\n",
    "            put_option_data = put_option_data.sort_values('delta_diff')\n",
    "\n",
    "            nearest_call_row = call_option_data.iloc[0] # Call option with delta closest to 0.3\n",
    "            nearest_put_row = put_option_data.iloc[0] # Put option with delta closest to 0.3\n",
    "\n",
    "            ce_entry_price = float(nearest_call_row['close']) #Call entry price\n",
    "            pe_entry_price = float(nearest_put_row['close']) #Put entry price\n",
    "            days_to_expiry = nearest_call_row['time_to_expiration']\n",
    "            ce_symbol = nearest_call_row['symbol'] # Call symbol\n",
    "            pe_symbol = nearest_put_row['symbol'] # Put Symbol\n",
    "\n",
    "            ce_data = data[data['symbol'] == ce_symbol].copy() # Tick by Tick data for Call symbol\n",
    "            pe_data = data[data['symbol'] == pe_symbol].copy() # Tick by Tick data for Put symbol\n",
    "\n",
    "            ce_data['pos'] = None\n",
    "            pe_data['pos'] = None\n",
    "\n",
    "            ce_sl_price = 1.3*float(ce_entry_price) # Stop Loss Price\n",
    "            pe_sl_price = 1.3*float(pe_entry_price)\n",
    "\n",
    "            lot_size = 25\n",
    "\n",
    "            ce_exit_price, ce_pnl = call_pnl(ce_data, ce_entry_price, ce_sl_price)\n",
    "            pe_exit_price, pe_pnl = put_pnl(pe_data, pe_entry_price, pe_sl_price)\n",
    "\n",
    "            pnl = ce_pnl + pe_pnl\n",
    "            ce_exit_time = ce_data[ce_data['pos']==0]['time']\n",
    "            pe_exit_time = pe_data[pe_data['pos']==0]['time']\n",
    "\n",
    "            result = [date , underlying_price_open, days_to_expiry, ce_symbol, ce_entry_price, ce_exit_price, ce_exit_time, pe_symbol, pe_entry_price, pe_exit_price, pe_exit_time, pnl]\n",
    "\n",
    "            result = [\n",
    "                pd.to_datetime(result[0]),         \n",
    "                float(result[1]),                  \n",
    "                int(result[2]),                    \n",
    "                result[3],\n",
    "                float(result[4]),                  \n",
    "                float(result[5]),                  \n",
    "                result[6].values[0],         \n",
    "                result[7],\n",
    "                float(result[8]),                  \n",
    "                float(result[9]),                  \n",
    "                result[10].values[0],        \n",
    "                float(result[11])                  \n",
    "            ]\n",
    "\n",
    "            trade_log.loc[len(trade_log)] = result\n",
    "            \n",
    "        except :\n",
    "            continue\n",
    "\n",
    "\n",
    "        "
   ]
  },
  {
   "cell_type": "code",
   "execution_count": null,
   "id": "d767c096",
   "metadata": {},
   "outputs": [],
   "source": []
  },
  {
   "cell_type": "code",
   "execution_count": null,
   "id": "c96bb90d",
   "metadata": {},
   "outputs": [],
   "source": [
    "def backtest():\n",
    "    path = pd.DataFrame(glob('BANKNIFTY 2022/*'), columns=['location'])\n",
    "    path['data_date'] = path['location'].apply(lambda x : datetime.datetime.strptime(x.split('_')[-1].split('.')[0], '%Y%m%d'))\n",
    "    path.sort_values(['data_date'], inplace=True)\n",
    "    path.reset_index(drop=True, inplace=True)\n",
    "    \n",
    "    read_paths(path)\n",
    "    \n",
    "    "
   ]
  },
  {
   "cell_type": "code",
   "execution_count": null,
   "id": "f4e55479",
   "metadata": {},
   "outputs": [],
   "source": [
    "backtest()"
   ]
  },
  {
   "cell_type": "code",
   "execution_count": null,
   "id": "a2f324be",
   "metadata": {},
   "outputs": [],
   "source": [
    "trade_log"
   ]
  },
  {
   "cell_type": "code",
   "execution_count": null,
   "id": "ee5adf40",
   "metadata": {},
   "outputs": [],
   "source": [
    "trade_log['PnL'].describe()"
   ]
  },
  {
   "cell_type": "code",
   "execution_count": null,
   "id": "6dd7ee0e",
   "metadata": {},
   "outputs": [],
   "source": [
    "pnl_values = np.array(trade_log['PnL'])"
   ]
  },
  {
   "cell_type": "code",
   "execution_count": null,
   "id": "81bdedef",
   "metadata": {},
   "outputs": [],
   "source": [
    "total_pnl = np.sum(pnl_values)"
   ]
  },
  {
   "cell_type": "code",
   "execution_count": null,
   "id": "8c4bb47c",
   "metadata": {},
   "outputs": [],
   "source": [
    "total_pnl"
   ]
  },
  {
   "cell_type": "code",
   "execution_count": null,
   "id": "92d8bd25",
   "metadata": {},
   "outputs": [],
   "source": [
    "trade_log.to_csv('backtest_results.csv')"
   ]
  },
  {
   "cell_type": "code",
   "execution_count": null,
   "id": "b4ef07ec",
   "metadata": {},
   "outputs": [],
   "source": []
  },
  {
   "cell_type": "code",
   "execution_count": null,
   "id": "222313ed",
   "metadata": {},
   "outputs": [],
   "source": []
  },
  {
   "cell_type": "code",
   "execution_count": null,
   "id": "bf99ee91",
   "metadata": {},
   "outputs": [],
   "source": []
  },
  {
   "cell_type": "code",
   "execution_count": null,
   "id": "ce5bd4c0",
   "metadata": {},
   "outputs": [],
   "source": []
  },
  {
   "cell_type": "code",
   "execution_count": null,
   "id": "4d45fd90",
   "metadata": {},
   "outputs": [],
   "source": []
  },
  {
   "cell_type": "code",
   "execution_count": null,
   "id": "9d619546",
   "metadata": {},
   "outputs": [],
   "source": []
  },
  {
   "cell_type": "code",
   "execution_count": null,
   "id": "e6ac31cf",
   "metadata": {},
   "outputs": [],
   "source": []
  },
  {
   "cell_type": "code",
   "execution_count": null,
   "id": "1cd8056f",
   "metadata": {},
   "outputs": [],
   "source": []
  }
 ],
 "metadata": {
  "kernelspec": {
   "display_name": "Python 3 (ipykernel)",
   "language": "python",
   "name": "python3"
  },
  "language_info": {
   "codemirror_mode": {
    "name": "ipython",
    "version": 3
   },
   "file_extension": ".py",
   "mimetype": "text/x-python",
   "name": "python",
   "nbconvert_exporter": "python",
   "pygments_lexer": "ipython3",
   "version": "3.9.12"
  }
 },
 "nbformat": 4,
 "nbformat_minor": 5
}
